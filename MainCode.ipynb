{
 "cells": [
  {
   "cell_type": "markdown",
   "metadata": {},
   "source": [
    "<h1 size=\"35px\"><b>Face Detecting Laser Turret</b></h1>\n",
   ]
  },
  {
   "cell_type": "markdown",
   "metadata": {},
   "source": [
    "<p>This project brings together computer vision (via a webcam of your PC), servo motors, and an Arduino to create a face-tracking system. The goal is to detect a person’s face using the webcam and move two servo motors to \"follow\" that face automatically while pointing its laser.\n",
    "\n",
    "Think of it like a robotic camera that tries to keep a moving person in its view by adjusting its position left-right and up-down using servos</p>"
   ]
  },
  {
   "cell_type": "markdown",
   "metadata": {},
   "source": [
    "<h2>Components</h2>\n",
    "<ul>\n",
    "<li>Webcam – Captures real-time video.</li>\n",
    "<li>Arduino (with servos) – Controls two motors to move in horizontal and vertical directions.</li>\n",
    "<li>Python libraries – OpenCV for face detection, PyFirmata for Arduino communication.</li>\n",
    "<li>FaceDetector Module – Used for detecting faces in the video (assumed as part of the code).</li>\n",
    "</ul>"
   ]
  },
  {
   "cell_type": "code",
   "execution_count": 2,
   "metadata": {},
   "outputs": [],
   "source": [
    "#Import Libraries required\n",
    "\n",
    "import cv2\n",
    "from cvzone.FaceDetectionModule import FaceDetector\n",
    "import pyfirmata\n",
    "import numpy as np\n",
    "import time\n",
    "\n",
   ]
  },
  {
   "cell_type": "markdown",
   "metadata": {},
   "source": [
    "<h2>Connecting to Arduino</h2>\n",
    "The Arduino is connected on COM8 (you can change the port if needed).<br>\n",
    "Two servos are connected to pins 10 and 12 of the Arduino.<br>\n",
    "The laser Enable / Signal is also connected to Arduino using pin 11.<br>\n",
    "Do the necessary wiring between the rest.<br>"
   ]
  },
  {
   "cell_type": "code",
   "execution_count": 3,
   "metadata": {},
   "outputs": [],
   "source": [
    "#Intial setup\n",
    "\n",
    "cap = cv2.VideoCapture(0)  # 0 for default camera, 1 for external camera\n",
    "\n",
    "ws, hs = 1280, 720   # width and height of the video frame\n",
    "\n",
    "cap.set(3, ws) # set  width ratio\n",
    "cap.set(4, hs) #  set heigth ratio\n",
    "\n",
    "if not cap.isOpened():   # check if the camera is opened\n",
    "    print(\"Camera couldn't Access!!!\") \n",
    "\n",
    "port = \"COM8\"   # change to your Arduino port\n",
    "\n",
    "board = pyfirmata.Arduino(port)   # create an Arduino object\n",
    "\n",
    "servo_pinX = board.get_pin('d:12:s') #pin 12 Arduino\n",
    "servo_pinY = board.get_pin('d:10:s') #pin 10 Arduino\n",
    "laser_pin = board.get_pin('d:11:o') #pin 11 Arduino\n",
    "\n",
    "detector = FaceDetector()\n",
    "servoPos = [90, 90] # initial servo position\n",
    "servo_pinX.write(servoPos[0])  # set initial servo position\n",
    "\n",
    "servo_pinY.write(servoPos[1]) #  set initial servo position\n",
    "\n",
    "laser_pin.write(0)  # turn off laser\n",
    "\n",
    "time.sleep(7) #wait for 7 seconds\n",
    "\n",
    "\n",
 
   ]
  },
  {
   "cell_type": "markdown",
   "metadata": {},
   "source": [
    "<h2>How Main Loop Works ?</h2>\n",
    "\n",
    "<h3>It works in the following sequence</h3>\n",
    "<ol>\n",
    "<li>Main Loop: Continuously reads frames from the camera.</li>\n",
    "<li>Detect Face: Uses \"detector.findFaces()\" to look for faces in each frame. If a face is found, it extracts the coordinates (fx, fy) of the first detected face.</li>\n",
    "<li>Convert Coordinates to Servo Angles: The face’s position is mapped to servo angles using `np.interp()` to make the servos move accordingly:\n",
    "<ol>\n",
    "<li>Horizontal (servoX): Maps `fx` to angles between 140 and 30 degrees.</li>  \n",
    "<li>Vertical (servoY): Maps `fy` to angles between 55 and 125 degrees.</li>\n",
    "</ol></li>\n",
    "<li>Ensure Servo Angle Limits: Makes sure servo angles stay within 0 to 180 degrees to prevent any errors, just in case.</li>\n",
    "\n",
    "<li>If Face Found:  \n",
    "<ol>\n",
    "<li>Update servo positions to align with the face.</li>\n",
    "<li>Turn on the laser using \"laser_pin.write(1)\".</li>\n",
    "<li>Display target locked message and draw a red circle on the face.</li>\n",
    "</ol></li>\n",
    "\n",
    "<li>If No Face Found:  \n",
    "<ol>\n",
    "<li>Reset servo to center (90,90).</li>  \n",
    "<li>Turn off the laser using \"laser_pin.write(0)\".</li>\n",
    "<li>Display \"NO TARGET\" message.</li>\n",
    "</ol></li>\n",
    "\n",
    "<li>Send Servo Values to Arduino: The new servo positions are sent to the X and Y servos via \"servo_pinX\" and \"servo_pinY\".</li>\n",
    "\n",
    "<li>Show Image with Annotations: Displays the updated video feed with all markings using \"cv2.imshow()\".</li>\n",
    "\n",
    "<p>This loop keeps running until you stop it, making the camera and servos track any detected face and align accordingly with the help of the laser.</P>"
   ]
  },
  {
   "cell_type": "code",
   "execution_count": 4,
   "metadata": {},
   "outputs": [
    {
     "ename": "KeyboardInterrupt",
     "evalue": "",
     "output_type": "error",
     "traceback": [
      "\u001b[1;31m---------------------------------------------------------------------------\u001b[0m",
      "\u001b[1;31mKeyboardInterrupt\u001b[0m                         Traceback (most recent call last)",
      "Cell \u001b[1;32mIn[4], line 4\u001b[0m\n\u001b[0;32m      1\u001b[0m \u001b[38;5;66;03m#Looping frame by frame processing\u001b[39;00m\n\u001b[0;32m      3\u001b[0m \u001b[38;5;28;01mwhile\u001b[39;00m \u001b[38;5;28;01mTrue\u001b[39;00m:\n\u001b[1;32m----> 4\u001b[0m     success, img \u001b[38;5;241m=\u001b[39m \u001b[43mcap\u001b[49m\u001b[38;5;241;43m.\u001b[39;49m\u001b[43mread\u001b[49m\u001b[43m(\u001b[49m\u001b[43m)\u001b[49m   \u001b[38;5;66;03m# read a frame from the camera\u001b[39;00m\n\u001b[0;32m      6\u001b[0m     img, bboxs \u001b[38;5;241m=\u001b[39m detector\u001b[38;5;241m.\u001b[39mfindFaces(img, draw\u001b[38;5;241m=\u001b[39m\u001b[38;5;28;01mTrue\u001b[39;00m)   \u001b[38;5;66;03m# detect faces in the frame\u001b[39;00m\n\u001b[0;32m      9\u001b[0m     \u001b[38;5;28;01mif\u001b[39;00m bboxs:   \u001b[38;5;66;03m# if there are faces detected\u001b[39;00m\n\u001b[0;32m     10\u001b[0m \n\u001b[0;32m     11\u001b[0m         \u001b[38;5;66;03m#get the coordinate\u001b[39;00m\n",
      "\u001b[1;31mKeyboardInterrupt\u001b[0m: "
     ]
    }
   ],
   "source": [
    "#Looping frame by frame processing\n",
    "\n",
    "while True:\n",
    "    success, img = cap.read()   # read a frame from the camera\n",
    "\n",
    "    img, bboxs = detector.findFaces(img, draw=True)   # detect faces in the frame\n",
    "\n",
    "\n",
    "    if bboxs:   # if there are faces detected\n",
    "\n",
    "        #get the coordinate\n",
    "        fx, fy = bboxs[0][\"center\"][0], bboxs[0][\"center\"][1]\n",
    "        pos = [fx, fy]\n",
    "        #convert coordinat to servo degree\n",
    "        servoX = np.interp(fx, [0, ws], [140, 30])\n",
    "        servoY = np.interp(fy, [0, hs], [55, 125]) \n",
    "        #Make sure servo dont go beyond permissabble limits\n",
    "        if servoX < 0:\n",
    "            servoX = 0\n",
    "        elif servoX > 180:\n",
    "            servoX = 180\n",
    "        if servoY < 0:\n",
    "            servoY = 0\n",
    "        elif servoY > 180:\n",
    "            servoY = 180\n",
    "        #Update servo positions\n",
    "        servoPos[0] = servoX\n",
    "        servoPos[1] = servoY\n",
    "        laser_pin.write(1) #Turn on Laser\n",
    "        \n",
    "\n",
    "\n",
    "        cv2.circle(img, (fx, fy), 80, (0, 0, 255), 2)   # draw a circle around the face\n",
    "        cv2.circle(img, (fx, fy), 15, (0, 0, 255), cv2.FILLED) # draw a point on the center of face\n",
    "        cv2.putText(img, \"TARGET LOCKED\", (850, 50), cv2.FONT_HERSHEY_PLAIN, 3, (255, 0, 255), 3 )  # display \"TARGET LOCKED\" on the screen\n",
    "\n",
    "\n",
    "    else: # IF no face is found\n",
    "        cv2.putText(img, \"NO TARGET\", (880, 50), cv2.FONT_HERSHEY_PLAIN, 3, (0, 0, 255), 3)   # display \"NO TARGET\" on the screen\n",
    "        servoPos = [90,90] #bring laser to center again if no face found\n",
    "        laser_pin.write(0)  #turn off laser\n",
    "\n",
    "    #give servo pos value to servo\n",
    "    servo_pinX.write(servoPos[0]) \n",
    "    servo_pinY.write(servoPos[1])\n",
    "\n",
    "    #Show image  on screen\n",
    "\n",
    "    cv2.imshow(\"Image\", img)\n",
    "    cv2.waitKey(1)\n",
    "\n",

   ]
  },
  {
   "cell_type": "markdown",
   "metadata": {},
   "source": [
    "This above error is because you have to interrrupt the loop to end the execution of the code. It is going to show up everytime you stop the code. I am still working on it.\n",
    "\n"
   ]
  },
  {
   "cell_type": "markdown",
   "metadata": {},
   "source": [
    "<h1> Thank You for considering this project </h1>\n",
    "\n",
    "<h3>Made by:</h3>\n",
    "<ul>\n",
    "<li>Dhruv Singh           <br><b>N292 70472200318</b></li>\n",
    "</ul>"
   ]
  }
 ],
 "metadata": {
  "kernelspec": {
   "display_name": "Python 3",
   "language": "python",
   "name": "python3"
  },
  "language_info": {
   "codemirror_mode": {
    "name": "ipython",
    "version": 3
   },
   "file_extension": ".py",
   "mimetype": "text/x-python",
   "name": "python",
   "nbconvert_exporter": "python",
   "pygments_lexer": "ipython3",
   "version": "3.11.9"
  }
 },
 "nbformat": 4,
 "nbformat_minor": 2
}
